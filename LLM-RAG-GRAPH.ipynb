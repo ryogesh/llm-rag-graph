{
 "cells": [
  {
   "cell_type": "code",
   "execution_count": 1,
   "id": "f5f52427",
   "metadata": {},
   "outputs": [],
   "source": [
    "import gradio as gr\n",
    "from coreutils import LLMOps"
   ]
  },
  {
   "cell_type": "code",
   "execution_count": 2,
   "id": "c30710dd",
   "metadata": {},
   "outputs": [
    {
     "data": {
      "application/vnd.jupyter.widget-view+json": {
       "model_id": "028bbaa9ff794017ae348c296d05019f",
       "version_major": 2,
       "version_minor": 0
      },
      "text/plain": [
       "Loading checkpoint shards:   0%|          | 0/8 [00:00<?, ?it/s]"
      ]
     },
     "metadata": {},
     "output_type": "display_data"
    },
    {
     "name": "stderr",
     "output_type": "stream",
     "text": [
      "WARNING:root:Some parameters are on the meta device device because they were offloaded to the cpu.\n"
     ]
    }
   ],
   "source": [
    "llm = LLMOps()\n",
    "def mdl_gr_response(qry, temp):\n",
    "    \"\"\" Gradio UI friendly results from the LLM \"\"\"\n",
    "    dct = llm.mdl_ui_response(qry, temp)\n",
    "    return (dct[\"answer\"], dct[\"graph\"], dct[\"images\"], dct[\"docs\"])"
   ]
  },
  {
   "cell_type": "code",
   "execution_count": 3,
   "id": "cda51ac7",
   "metadata": {},
   "outputs": [
    {
     "data": {
      "text/html": [
       "<div><iframe src=\"http://127.0.0.1:7860/\" width=\"100%\" height=\"1300\" allow=\"autoplay; camera; microphone; clipboard-read; clipboard-write;\" frameborder=\"0\" allowfullscreen></iframe></div>"
      ],
      "text/plain": [
       "<IPython.core.display.HTML object>"
      ]
     },
     "metadata": {},
     "output_type": "display_data"
    },
    {
     "data": {
      "text/plain": []
     },
     "execution_count": 3,
     "metadata": {},
     "output_type": "execute_result"
    },
    {
     "name": "stdout",
     "output_type": "stream",
     "text": [
      "Embedding model ok.\n",
      "DB connection established.\n"
     ]
    }
   ],
   "source": [
    "%%capture --no-display\n",
    "    \n",
    "#define gradio interface and other parameters\n",
    "with gr.Blocks() as app:\n",
    "    with gr.Row():\n",
    "        with gr.Column():\n",
    "            input = gr.Textbox(label=\"Question\", show_copy_button=True)\n",
    "        with gr.Column():\n",
    "            slider = gr.Slider(1, 10, value=1, label=\"Randomness\", show_label=True,\n",
    "                               step=1, info=\"High values generates diverse texts.\")\n",
    "        submit_btn = gr.Button(\"submit\")\n",
    "    with gr.Row():\n",
    "        with gr.Column():\n",
    "            ans = gr.Textbox(label=\"Answer with context\", show_copy_button=True)\n",
    "        with gr.Column():\n",
    "            img_html = gr.HTML()\n",
    "    with gr.Row():\n",
    "        doc_html = gr.HTML()\n",
    "    with gr.Row():\n",
    "        grph_html = gr.HTML()\n",
    "    submit_btn.click(fn=mdl_gr_response, \n",
    "                     inputs=[input, slider], \n",
    "                     outputs=[ans, grph_html, img_html, doc_html])\n",
    "app.load(show_progress=\"minimal\")        \n",
    "app.launch(share=False, quiet=True, show_api=False, height=1300, show_error=True)"
   ]
  },
  {
   "cell_type": "code",
   "execution_count": null,
   "id": "77c6240a",
   "metadata": {},
   "outputs": [],
   "source": []
  }
 ],
 "metadata": {
  "kernelspec": {
   "display_name": "Python 3 (ipykernel)",
   "language": "python",
   "name": "python3"
  },
  "language_info": {
   "codemirror_mode": {
    "name": "ipython",
    "version": 3
   },
   "file_extension": ".py",
   "mimetype": "text/x-python",
   "name": "python",
   "nbconvert_exporter": "python",
   "pygments_lexer": "ipython3",
   "version": "3.10.13"
  }
 },
 "nbformat": 4,
 "nbformat_minor": 5
}
